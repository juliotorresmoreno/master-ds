{
 "cells": [
  {
   "cell_type": "code",
   "execution_count": 1,
   "metadata": {},
   "outputs": [],
   "source": [
    "import requests\n",
    "import urllib.request\n",
    "import re\n",
    "\n",
    "import ssl\n",
    "ssl._create_default_https_context = ssl._create_unverified_context"
   ]
  },
  {
   "cell_type": "code",
   "execution_count": 2,
   "metadata": {},
   "outputs": [],
   "source": [
    "url = 'https://www.mifuturo.cl/informes-de-matricula/'"
   ]
  },
  {
   "cell_type": "code",
   "execution_count": 3,
   "metadata": {},
   "outputs": [
    {
     "name": "stdout",
     "output_type": "stream",
     "text": [
      "HTTP/1.1 200 Connection established\n",
      "\u001b[1mConnection\u001b[0m: keep-alive\n",
      "\u001b[1mVia\u001b[0m: 1.1 localhost\n",
      "\n",
      "HTTP/1.1 301 Moved Permanently\n",
      "\u001b[1mDate\u001b[0m: Mon, 16 Mar 2020 19:06:50 GMT\n",
      "\u001b[1mX-Redirect-By\u001b[0m: WordPress\n",
      "\u001b[1mLocation\u001b[0m: https://www.mifuturo.cl/informes-de-matricula/\n",
      "\u001b[1mContent-Length\u001b[0m: 1\n",
      "\u001b[1mContent-Type\u001b[0m: text/html; charset=UTF-8\n",
      "\n",
      "\n"
     ]
    }
   ],
   "source": [
    "!curl --insecure -i https://www.mifuturo.cl/informes-de-matricula"
   ]
  },
  {
   "cell_type": "code",
   "execution_count": 4,
   "metadata": {},
   "outputs": [],
   "source": [
    "!mkdir -p data && rm data/*"
   ]
  },
  {
   "cell_type": "code",
   "execution_count": 5,
   "metadata": {},
   "outputs": [
    {
     "name": "stderr",
     "output_type": "stream",
     "text": [
      "/home/juliotorres/anaconda3/lib/python3.7/site-packages/urllib3/connectionpool.py:847: InsecureRequestWarning: Unverified HTTPS request is being made. Adding certificate verification is strongly advised. See: https://urllib3.readthedocs.io/en/latest/advanced-usage.html#ssl-warnings\n",
      "  InsecureRequestWarning)\n"
     ]
    }
   ],
   "source": [
    "r = requests.get(url, verify=False)"
   ]
  },
  {
   "cell_type": "code",
   "execution_count": 6,
   "metadata": {},
   "outputs": [
    {
     "data": {
      "text/plain": [
       "['https://www.mifuturo.cl/wp-content/uploads/2019/08/Informe_matricula_2019-SIES-3.xlsx',\n",
       " 'https://www.mifuturo.cl/wp-content/uploads/2018/SIES/informes_anuales/matricula/informe_matricula_2018_sies.xlsx',\n",
       " 'https://www.mifuturo.cl/wp-content/uploads/2018/SIES/informes_anuales/matricula/informe_matricula_2017_sies.xlsx',\n",
       " 'https://www.mifuturo.cl/wp-content/uploads/2018/SIES/informes_anuales/matricula/informe_matricula_2007_a_2016_sies.xlsx',\n",
       " 'https://www.mifuturo.cl/wp-content/uploads/2018/SIES/informes_anuales/matricula/informe_matricula_2011_a_2015sies.xlsx',\n",
       " 'https://www.mifuturo.cl/wp-content/uploads/2018/SIES/informes_anuales/matricula/informe_matricula_2014_sies.xlsx',\n",
       " 'https://www.mifuturo.cl/wp-content/uploads/2018/SIES/informes_anuales/matricula/informe_matricula_2013_mifuturo.cl.xlsx']"
      ]
     },
     "execution_count": 6,
     "metadata": {},
     "output_type": "execute_result"
    }
   ],
   "source": [
    "def findLink(html):\n",
    "    r = [\n",
    "        re.findall(\"href=['\\\"][^'^\\\"]+\", link)[0]\n",
    "            .replace('http://', '')\n",
    "            .replace('https://', '')\n",
    "            .replace('//', '')[6:]\n",
    "        \n",
    "        for link in re.findall(\"\\<a[^\\>]+\\>\", html)\n",
    "        if 'href=\"#' not in link \n",
    "        and 'href=\\'#' not in link\n",
    "        and 'href=\\'\\'' not in link\n",
    "        and 'href=\"\"' not in link\n",
    "    ]\n",
    "    return [\n",
    "        'https://' + x\n",
    "        for x in r\n",
    "        if x[-4:] == 'xlsx'\n",
    "    ]\n",
    "    \n",
    "links = findLink(r.text)\n",
    "links"
   ]
  },
  {
   "cell_type": "code",
   "execution_count": 7,
   "metadata": {},
   "outputs": [],
   "source": [
    "def download(url):\n",
    "    name = url.split('/')[-1].lower().replace('-', '_')[:22] + '.xlsx'\n",
    "    urllib.request.urlretrieve(url, './data/' + name)\n",
    "    \n",
    "for url in links:\n",
    "    download(url)"
   ]
  },
  {
   "cell_type": "code",
   "execution_count": 8,
   "metadata": {},
   "outputs": [
    {
     "name": "stdout",
     "output_type": "stream",
     "text": [
      "informe_matricula_2007.xlsx  informe_matricula_2017.xlsx\r\n",
      "informe_matricula_2011.xlsx  informe_matricula_2018.xlsx\r\n",
      "informe_matricula_2013.xlsx  informe_matricula_2019.xlsx\r\n",
      "informe_matricula_2014.xlsx\r\n"
     ]
    }
   ],
   "source": [
    "!ls data"
   ]
  },
  {
   "cell_type": "code",
   "execution_count": 9,
   "metadata": {},
   "outputs": [],
   "source": [
    "import pandas as pd\n",
    "import os\n",
    "import openpyxl"
   ]
  },
  {
   "cell_type": "code",
   "execution_count": 10,
   "metadata": {},
   "outputs": [
    {
     "data": {
      "text/plain": [
       "['informe_matricula_2019.xlsx',\n",
       " 'informe_matricula_2018.xlsx',\n",
       " 'informe_matricula_2017.xlsx',\n",
       " 'informe_matricula_2014.xlsx',\n",
       " 'informe_matricula_2013.xlsx',\n",
       " 'informe_matricula_2011.xlsx',\n",
       " 'informe_matricula_2007.xlsx']"
      ]
     },
     "execution_count": 10,
     "metadata": {},
     "output_type": "execute_result"
    }
   ],
   "source": [
    "files = [x for x in os.listdir('data') if x[-4:] == 'xlsx']\n",
    "files.sort(reverse=True)\n",
    "files"
   ]
  },
  {
   "cell_type": "code",
   "execution_count": 11,
   "metadata": {},
   "outputs": [
    {
     "data": {
      "text/plain": [
       "'data/informe_matricula_2019.xlsx'"
      ]
     },
     "execution_count": 11,
     "metadata": {},
     "output_type": "execute_result"
    }
   ],
   "source": [
    "'data/'+files[0]"
   ]
  },
  {
   "cell_type": "code",
   "execution_count": 12,
   "metadata": {},
   "outputs": [
    {
     "name": "stderr",
     "output_type": "stream",
     "text": [
      "/home/juliotorres/anaconda3/lib/python3.7/site-packages/openpyxl/worksheet/_reader.py:296: UserWarning: Unknown extension is not supported and will be removed\n",
      "  warn(msg)\n"
     ]
    }
   ],
   "source": [
    "book = openpyxl.load_workbook('data/'+files[0])"
   ]
  },
  {
   "cell_type": "code",
   "execution_count": 13,
   "metadata": {},
   "outputs": [
    {
     "data": {
      "text/plain": [
       "['Índice',\n",
       " 'Matrícula Total 2019',\n",
       " 'Evolución Matrícula Total',\n",
       " 'Matrícula Pregrado 2019',\n",
       " 'Evolución Matrícula Pregrado',\n",
       " 'Matrícula Posgrado 2019',\n",
       " 'Evolución Matrícula Posgrado',\n",
       " 'Matrícula Postitulo 2019',\n",
       " 'Evolución Matrícula Postítulo',\n",
       " 'Listado de instituciones 2019']"
      ]
     },
     "execution_count": 13,
     "metadata": {},
     "output_type": "execute_result"
    }
   ],
   "source": [
    "book.sheetnames"
   ]
  },
  {
   "cell_type": "code",
   "execution_count": 14,
   "metadata": {},
   "outputs": [],
   "source": [
    "from datetime import datetime"
   ]
  },
  {
   "cell_type": "code",
   "execution_count": 15,
   "metadata": {},
   "outputs": [
    {
     "data": {
      "text/plain": [
       "'2020-03-16 14:07:20.262533'"
      ]
     },
     "execution_count": 15,
     "metadata": {},
     "output_type": "execute_result"
    }
   ],
   "source": [
    "str(datetime.now())"
   ]
  },
  {
   "cell_type": "code",
   "execution_count": 106,
   "metadata": {},
   "outputs": [],
   "source": [
    "import unicodedata"
   ]
  },
  {
   "cell_type": "code",
   "execution_count": 107,
   "metadata": {},
   "outputs": [],
   "source": [
    "def elimina_tildes(cadena):\n",
    "    s = ''.join((c for c in unicodedata.normalize('NFD',cadena) if unicodedata.category(c) != 'Mn'))\n",
    "    return s"
   ]
  },
  {
   "cell_type": "code",
   "execution_count": 137,
   "metadata": {},
   "outputs": [],
   "source": [
    "datos = {}\n",
    "\n",
    "def parse_data(fname, book, alias):\n",
    "    document = 0\n",
    "    for x in book.sheetnames[1:]:\n",
    "        sheet = book[x]\n",
    "        pos = 1\n",
    "        while pos < 1000:            \n",
    "            if sheet['A' + str(pos)].value and sheet['B' + str(pos)].value:\n",
    "                description = sheet['A' + str(pos-1)].value or 'indefinido' + str(document)\n",
    "                description = elimina_tildes(description).lower()\n",
    "                \n",
    "                name = 'documento-' + str(document) + '-' + (alias or '')\n",
    "                \n",
    "                data = []\n",
    "                cols = 0\n",
    "                while sheet[chr(65 + cols)+str(pos)].value:\n",
    "                    cols+= 1\n",
    "\n",
    "                while sheet['A' + str(pos)].value:\n",
    "                    values = [\n",
    "                        sheet[chr(x+65)+str(pos)].value\n",
    "                        for x in range(cols-1)\n",
    "                    ]\n",
    "                    values.append(description)\n",
    "                    values.append(fname)\n",
    "                    data.append(values)\n",
    "                    pos+= 1\n",
    "                    \n",
    "                columns = data[0][:-2]\n",
    "                columns.append('fname')\n",
    "                columns.append('source')\n",
    "                \n",
    "                if fname not in datos:\n",
    "                    datos[fname] = {}\n",
    "                    \n",
    "                datos[fname][description] = {\n",
    "                    'data': data[1:],\n",
    "                    'columns': columns\n",
    "                }\n",
    "                \n",
    "                document+= 1\n",
    "\n",
    "            pos+= 1\n",
    "        "
   ]
  },
  {
   "cell_type": "code",
   "execution_count": 138,
   "metadata": {},
   "outputs": [
    {
     "name": "stderr",
     "output_type": "stream",
     "text": [
      "/home/juliotorres/anaconda3/lib/python3.7/site-packages/openpyxl/worksheet/_reader.py:296: UserWarning: Unknown extension is not supported and will be removed\n",
      "  warn(msg)\n"
     ]
    }
   ],
   "source": [
    "pos = 0\n",
    "for file in files:\n",
    "    book = openpyxl.load_workbook('data/'+file)\n",
    "    parse_data(file[:-5], book, chr(pos + 65))\n",
    "    pos+= 1"
   ]
  },
  {
   "cell_type": "code",
   "execution_count": 139,
   "metadata": {},
   "outputs": [],
   "source": [
    "import json"
   ]
  },
  {
   "cell_type": "code",
   "execution_count": 140,
   "metadata": {},
   "outputs": [],
   "source": [
    "f = open('datos.json', 'w+')\n",
    "f.write(json.dumps(datos))\n",
    "f.close()"
   ]
  },
  {
   "cell_type": "code",
   "execution_count": 141,
   "metadata": {},
   "outputs": [],
   "source": [
    "keys = [ x for x in datos ]"
   ]
  },
  {
   "cell_type": "code",
   "execution_count": 142,
   "metadata": {},
   "outputs": [],
   "source": [
    "keys.sort()"
   ]
  },
  {
   "cell_type": "code",
   "execution_count": 143,
   "metadata": {},
   "outputs": [
    {
     "data": {
      "text/plain": [
       "['informe_matricula_2007',\n",
       " 'informe_matricula_2011',\n",
       " 'informe_matricula_2013',\n",
       " 'informe_matricula_2014',\n",
       " 'informe_matricula_2017',\n",
       " 'informe_matricula_2018',\n",
       " 'informe_matricula_2019']"
      ]
     },
     "execution_count": 143,
     "metadata": {},
     "output_type": "execute_result"
    }
   ],
   "source": [
    "keys"
   ]
  },
  {
   "cell_type": "code",
   "execution_count": 200,
   "metadata": {},
   "outputs": [],
   "source": [
    "query = '.*institucion y sexo.*'"
   ]
  },
  {
   "cell_type": "code",
   "execution_count": 224,
   "metadata": {},
   "outputs": [
    {
     "data": {
      "text/plain": [
       "{'informe_matricula_2019': ['matricula total 2019 por tipo de institucion y sexo'],\n",
       " 'informe_matricula_2018': ['matricula total 2018 por tipo de institucion y sexo'],\n",
       " 'informe_matricula_2017': ['matricula total 2017 por tipo de institucion y sexo'],\n",
       " 'informe_matricula_2014': [],\n",
       " 'informe_matricula_2013': [],\n",
       " 'informe_matricula_2011': [],\n",
       " 'informe_matricula_2007': ['matricula total 2016 por tipo de institucion y sexo']}"
      ]
     },
     "execution_count": 224,
     "metadata": {},
     "output_type": "execute_result"
    }
   ],
   "source": [
    "def buscar(q, sources=None):\n",
    "    r = {}\n",
    "    sources = sources if sources is not None and len(sources) > 0 else [ x for x in datos ]\n",
    "    for x in sources:\n",
    "        r[x] = [ \n",
    "            s for s in datos[x]\n",
    "            if re.match(q, s)\n",
    "        ]\n",
    "    return r\n",
    "\n",
    "buscar(query)"
   ]
  },
  {
   "cell_type": "code",
   "execution_count": 225,
   "metadata": {},
   "outputs": [
    {
     "data": {
      "text/plain": [
       "[['Tipo de institución',\n",
       "  'Matrícula Mujeres',\n",
       "  'Matrícula Hombres',\n",
       "  'fname',\n",
       "  'source'],\n",
       " ['Tipo de institución',\n",
       "  'Matrícula Mujeres',\n",
       "  'Matrícula Hombres',\n",
       "  'fname',\n",
       "  'source'],\n",
       " ['Tipo de institución',\n",
       "  'Matrícula Mujeres',\n",
       "  'Matrícula Hombres',\n",
       "  'fname',\n",
       "  'source'],\n",
       " ['Tipo de institución',\n",
       "  'Matrícula Mujeres',\n",
       "  'Matrícula Hombres',\n",
       "  'fname',\n",
       "  'source']]"
      ]
     },
     "execution_count": 225,
     "metadata": {},
     "output_type": "execute_result"
    }
   ],
   "source": [
    "def buscar_columns(q, sources=None):\n",
    "    r = buscar(q, sources)\n",
    "    return [\n",
    "        datos[x][r[x][0]]['columns']\n",
    "        for x in r\n",
    "        if len(r[x]) > 0\n",
    "    ]\n",
    "\n",
    "buscar_columns(query)"
   ]
  },
  {
   "cell_type": "code",
   "execution_count": 226,
   "metadata": {},
   "outputs": [
    {
     "data": {
      "text/html": [
       "<div>\n",
       "<style scoped>\n",
       "    .dataframe tbody tr th:only-of-type {\n",
       "        vertical-align: middle;\n",
       "    }\n",
       "\n",
       "    .dataframe tbody tr th {\n",
       "        vertical-align: top;\n",
       "    }\n",
       "\n",
       "    .dataframe thead th {\n",
       "        text-align: right;\n",
       "    }\n",
       "</style>\n",
       "<table border=\"1\" class=\"dataframe\">\n",
       "  <thead>\n",
       "    <tr style=\"text-align: right;\">\n",
       "      <th></th>\n",
       "      <th>Tipo de institución</th>\n",
       "      <th>Matrícula Mujeres</th>\n",
       "      <th>Matrícula Hombres</th>\n",
       "      <th>fname</th>\n",
       "      <th>source</th>\n",
       "    </tr>\n",
       "  </thead>\n",
       "  <tbody>\n",
       "    <tr>\n",
       "      <td>0</td>\n",
       "      <td>Centros de Formación Técnica</td>\n",
       "      <td>73801</td>\n",
       "      <td>64148</td>\n",
       "      <td>matricula total 2019 por tipo de institucion y...</td>\n",
       "      <td>informe_matricula_2019</td>\n",
       "    </tr>\n",
       "    <tr>\n",
       "      <td>1</td>\n",
       "      <td>Institutos Profesionales</td>\n",
       "      <td>191946</td>\n",
       "      <td>189466</td>\n",
       "      <td>matricula total 2019 por tipo de institucion y...</td>\n",
       "      <td>informe_matricula_2019</td>\n",
       "    </tr>\n",
       "    <tr>\n",
       "      <td>2</td>\n",
       "      <td>Universidades</td>\n",
       "      <td>407112</td>\n",
       "      <td>342037</td>\n",
       "      <td>matricula total 2019 por tipo de institucion y...</td>\n",
       "      <td>informe_matricula_2019</td>\n",
       "    </tr>\n",
       "    <tr>\n",
       "      <td>3</td>\n",
       "      <td>Total general</td>\n",
       "      <td>672859</td>\n",
       "      <td>595651</td>\n",
       "      <td>matricula total 2019 por tipo de institucion y...</td>\n",
       "      <td>informe_matricula_2019</td>\n",
       "    </tr>\n",
       "    <tr>\n",
       "      <td>0</td>\n",
       "      <td>Centros de Formación Técnica</td>\n",
       "      <td>72670</td>\n",
       "      <td>64114</td>\n",
       "      <td>matricula total 2018 por tipo de institucion y...</td>\n",
       "      <td>informe_matricula_2018</td>\n",
       "    </tr>\n",
       "    <tr>\n",
       "      <td>1</td>\n",
       "      <td>Institutos Profesionales</td>\n",
       "      <td>189122</td>\n",
       "      <td>186340</td>\n",
       "      <td>matricula total 2018 por tipo de institucion y...</td>\n",
       "      <td>informe_matricula_2018</td>\n",
       "    </tr>\n",
       "    <tr>\n",
       "      <td>2</td>\n",
       "      <td>Universidades</td>\n",
       "      <td>407482</td>\n",
       "      <td>343043</td>\n",
       "      <td>matricula total 2018 por tipo de institucion y...</td>\n",
       "      <td>informe_matricula_2018</td>\n",
       "    </tr>\n",
       "    <tr>\n",
       "      <td>3</td>\n",
       "      <td>Total general</td>\n",
       "      <td>669274</td>\n",
       "      <td>593497</td>\n",
       "      <td>matricula total 2018 por tipo de institucion y...</td>\n",
       "      <td>informe_matricula_2018</td>\n",
       "    </tr>\n",
       "    <tr>\n",
       "      <td>0</td>\n",
       "      <td>Centros de Formación Técnica</td>\n",
       "      <td>71879</td>\n",
       "      <td>64910</td>\n",
       "      <td>matricula total 2017 por tipo de institucion y...</td>\n",
       "      <td>informe_matricula_2017</td>\n",
       "    </tr>\n",
       "    <tr>\n",
       "      <td>1</td>\n",
       "      <td>Institutos Profesionales</td>\n",
       "      <td>190182</td>\n",
       "      <td>187172</td>\n",
       "      <td>matricula total 2017 por tipo de institucion y...</td>\n",
       "      <td>informe_matricula_2017</td>\n",
       "    </tr>\n",
       "    <tr>\n",
       "      <td>2</td>\n",
       "      <td>Universidades</td>\n",
       "      <td>394739</td>\n",
       "      <td>338864</td>\n",
       "      <td>matricula total 2017 por tipo de institucion y...</td>\n",
       "      <td>informe_matricula_2017</td>\n",
       "    </tr>\n",
       "    <tr>\n",
       "      <td>3</td>\n",
       "      <td>Total general</td>\n",
       "      <td>656800</td>\n",
       "      <td>590946</td>\n",
       "      <td>matricula total 2017 por tipo de institucion y...</td>\n",
       "      <td>informe_matricula_2017</td>\n",
       "    </tr>\n",
       "    <tr>\n",
       "      <td>0</td>\n",
       "      <td>Centros de Formación Técnica</td>\n",
       "      <td>73940</td>\n",
       "      <td>67780</td>\n",
       "      <td>matricula total 2016 por tipo de institucion y...</td>\n",
       "      <td>informe_matricula_2007</td>\n",
       "    </tr>\n",
       "    <tr>\n",
       "      <td>1</td>\n",
       "      <td>Institutos Profesionales</td>\n",
       "      <td>193346</td>\n",
       "      <td>191321</td>\n",
       "      <td>matricula total 2016 por tipo de institucion y...</td>\n",
       "      <td>informe_matricula_2007</td>\n",
       "    </tr>\n",
       "    <tr>\n",
       "      <td>2</td>\n",
       "      <td>Universidades</td>\n",
       "      <td>384285</td>\n",
       "      <td>336463</td>\n",
       "      <td>matricula total 2016 por tipo de institucion y...</td>\n",
       "      <td>informe_matricula_2007</td>\n",
       "    </tr>\n",
       "    <tr>\n",
       "      <td>3</td>\n",
       "      <td>Total general</td>\n",
       "      <td>651571</td>\n",
       "      <td>595564</td>\n",
       "      <td>matricula total 2016 por tipo de institucion y...</td>\n",
       "      <td>informe_matricula_2007</td>\n",
       "    </tr>\n",
       "  </tbody>\n",
       "</table>\n",
       "</div>"
      ],
      "text/plain": [
       "            Tipo de institución  Matrícula Mujeres  Matrícula Hombres  \\\n",
       "0  Centros de Formación Técnica              73801              64148   \n",
       "1      Institutos Profesionales             191946             189466   \n",
       "2                 Universidades             407112             342037   \n",
       "3                 Total general             672859             595651   \n",
       "0  Centros de Formación Técnica              72670              64114   \n",
       "1      Institutos Profesionales             189122             186340   \n",
       "2                 Universidades             407482             343043   \n",
       "3                 Total general             669274             593497   \n",
       "0  Centros de Formación Técnica              71879              64910   \n",
       "1      Institutos Profesionales             190182             187172   \n",
       "2                 Universidades             394739             338864   \n",
       "3                 Total general             656800             590946   \n",
       "0  Centros de Formación Técnica              73940              67780   \n",
       "1      Institutos Profesionales             193346             191321   \n",
       "2                 Universidades             384285             336463   \n",
       "3                 Total general             651571             595564   \n",
       "\n",
       "                                               fname                  source  \n",
       "0  matricula total 2019 por tipo de institucion y...  informe_matricula_2019  \n",
       "1  matricula total 2019 por tipo de institucion y...  informe_matricula_2019  \n",
       "2  matricula total 2019 por tipo de institucion y...  informe_matricula_2019  \n",
       "3  matricula total 2019 por tipo de institucion y...  informe_matricula_2019  \n",
       "0  matricula total 2018 por tipo de institucion y...  informe_matricula_2018  \n",
       "1  matricula total 2018 por tipo de institucion y...  informe_matricula_2018  \n",
       "2  matricula total 2018 por tipo de institucion y...  informe_matricula_2018  \n",
       "3  matricula total 2018 por tipo de institucion y...  informe_matricula_2018  \n",
       "0  matricula total 2017 por tipo de institucion y...  informe_matricula_2017  \n",
       "1  matricula total 2017 por tipo de institucion y...  informe_matricula_2017  \n",
       "2  matricula total 2017 por tipo de institucion y...  informe_matricula_2017  \n",
       "3  matricula total 2017 por tipo de institucion y...  informe_matricula_2017  \n",
       "0  matricula total 2016 por tipo de institucion y...  informe_matricula_2007  \n",
       "1  matricula total 2016 por tipo de institucion y...  informe_matricula_2007  \n",
       "2  matricula total 2016 por tipo de institucion y...  informe_matricula_2007  \n",
       "3  matricula total 2016 por tipo de institucion y...  informe_matricula_2007  "
      ]
     },
     "execution_count": 226,
     "metadata": {},
     "output_type": "execute_result"
    }
   ],
   "source": [
    "def buscar_df(q, sources=None):\n",
    "    r = buscar(q, sources)\n",
    "    for x in r:\n",
    "        if len(r[x]) > 1:\n",
    "            raise Exception('Algunos origenes devolvieron mas de un resultado %s (%s)' % (x, ','.join(r[x])))\n",
    "    return pd.concat([\n",
    "        pd.DataFrame(\n",
    "            datos[x][r[x][0]]['data'], \n",
    "            columns=datos[x][r[x][0]]['columns']\n",
    "        )        \n",
    "        for x in r\n",
    "        if len(r[x]) > 0\n",
    "    ])\n",
    "\n",
    "buscar_df(query)"
   ]
  },
  {
   "cell_type": "code",
   "execution_count": 227,
   "metadata": {},
   "outputs": [
    {
     "data": {
      "text/plain": [
       "{'informe_matricula_2019': ['evolucion de matricula total por sexo'],\n",
       " 'informe_matricula_2018': ['evolucion de matricula total por sexo'],\n",
       " 'informe_matricula_2017': ['evolucion de matricula total por sexo'],\n",
       " 'informe_matricula_2014': [],\n",
       " 'informe_matricula_2013': [],\n",
       " 'informe_matricula_2011': [],\n",
       " 'informe_matricula_2007': ['evolucion de matricula total por sexo']}"
      ]
     },
     "execution_count": 227,
     "metadata": {},
     "output_type": "execute_result"
    }
   ],
   "source": [
    "buscar('.*evolucion.*total por.*sexo$')"
   ]
  },
  {
   "cell_type": "code",
   "execution_count": 228,
   "metadata": {},
   "outputs": [
    {
     "data": {
      "text/plain": [
       "{'informe_matricula_2019': ['evolucion de matricula total por sexo']}"
      ]
     },
     "execution_count": 228,
     "metadata": {},
     "output_type": "execute_result"
    }
   ],
   "source": [
    "buscar('.*evolucion.*total por.*sexo$', ['informe_matricula_2019'])"
   ]
  },
  {
   "cell_type": "code",
   "execution_count": null,
   "metadata": {},
   "outputs": [],
   "source": []
  },
  {
   "cell_type": "code",
   "execution_count": null,
   "metadata": {},
   "outputs": [],
   "source": []
  },
  {
   "cell_type": "code",
   "execution_count": null,
   "metadata": {},
   "outputs": [],
   "source": []
  },
  {
   "cell_type": "code",
   "execution_count": null,
   "metadata": {},
   "outputs": [],
   "source": []
  },
  {
   "cell_type": "code",
   "execution_count": null,
   "metadata": {},
   "outputs": [],
   "source": []
  }
 ],
 "metadata": {
  "kernelspec": {
   "display_name": "Python 3",
   "language": "python",
   "name": "python3"
  },
  "language_info": {
   "codemirror_mode": {
    "name": "ipython",
    "version": 3
   },
   "file_extension": ".py",
   "mimetype": "text/x-python",
   "name": "python",
   "nbconvert_exporter": "python",
   "pygments_lexer": "ipython3",
   "version": "3.7.4"
  }
 },
 "nbformat": 4,
 "nbformat_minor": 2
}
